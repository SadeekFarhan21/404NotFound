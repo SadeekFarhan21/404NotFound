{
 "cells": [
  {
<<<<<<< HEAD
=======
   "cell_type": "markdown",
   "metadata": {},
   "source": [
    "Import the libraries"
   ]
  },
  {
>>>>>>> e206c8588698b338bc14f7b429e43aaea3c17309
   "cell_type": "code",
   "execution_count": 1,
   "metadata": {},
   "outputs": [],
   "source": [
<<<<<<< HEAD
    "# import the libraries\n",
    "from sklearn.model_selection import train_test_split\n",
    "from sklearn.linear_model import LogisticRegression\n",
    "from sklearn.metrics import accuracy_score\n",
    "from sklearn.naive_bayes import MultinomialNB\n",
    "from sklearn.svm import SVC\n",
    "from sklearn.feature_extraction.text import TfidfVectorizer\n",
    "import pandas as pd"
=======
    "# %%\n",
    "import pandas as pd\n",
    "import torch\n",
    "import torch.nn as nn\n",
    "import torch.optim as optim\n",
    "from torch.utils.data import Dataset, DataLoader\n",
    "from sklearn.model_selection import train_test_split\n",
    "from sklearn.metrics import accuracy_score\n",
    "from sklearn.feature_extraction.text import CountVectorizer\n",
    "from sklearn.feature_extraction.text import TfidfTransformer\n",
    "from sklearn.pipeline import make_pipeline\n",
    "import time\n",
    "\n",
    "# Assuming you have loaded your dataset and preprocessed the 'Label' column as you mentioned before\n",
    "df = pd.read_csv('data.csv')\n",
    "df['Label'] = df['Label'].map({\"FAKE\": 0, \"REAL\": 1})\n",
    "df = df.drop('ID', axis=1)\n",
    "\n",
    "# Assuming your dataset has 'Text' and 'Label' columns\n",
    "X = df['Text'].values\n",
    "y = df['Label'].values\n",
    "\n",
    "# Split the dataset into training and testing sets\n",
    "X_train, X_test, y_train, y_test = train_test_split(X, y, test_size=0.2, random_state=42)\n",
    "\n",
    "# Create a Bag-of-Words representation using CountVectorizer and TF-IDF\n",
    "vectorizer = make_pipeline(CountVectorizer(), TfidfTransformer())\n",
    "X_train = vectorizer.fit_transform(X_train).toarray()\n",
    "X_test = vectorizer.transform(X_test).toarray()\n",
    "\n",
    "# Convert data to PyTorch tensors\n",
    "X_train = torch.tensor(X_train, dtype=torch.float32)\n",
    "y_train = torch.tensor(y_train, dtype=torch.float32)\n",
    "X_test = torch.tensor(X_test, dtype=torch.float32)\n",
    "y_test = torch.tensor(y_test, dtype=torch.float32)"
>>>>>>> e206c8588698b338bc14f7b429e43aaea3c17309
   ]
  },
  {
   "cell_type": "code",
   "execution_count": 2,
   "metadata": {},
   "outputs": [],
   "source": [
<<<<<<< HEAD
    "# Load your dataset and preprocess 'Label' as you mentioned before\n",
    "df = pd.read_csv('data.csv')\n",
    "df['Label'] = df['Label'].map({\"FAKE\": 0, \"REAL\": 1})\n",
    "df = df.drop('ID', axis=1)"
=======
    "# %%\n",
    "# Define a more complex neural network model\n",
    "class FakeNewsClassifier(nn.Module):\n",
    "    def __init__(self, input_size):\n",
    "        super(FakeNewsClassifier, self).__init__()\n",
    "        self.fc1 = nn.Linear(input_size, 128)\n",
    "        self.relu1 = nn.ReLU()\n",
    "        self.dropout1 = nn.Dropout(0.5)\n",
    "        self.fc2 = nn.Linear(128, 64)\n",
    "        self.relu2 = nn.ReLU()\n",
    "        self.dropout2 = nn.Dropout(0.5)\n",
    "        self.fc3 = nn.Linear(64, 32)\n",
    "        self.relu3 = nn.ReLU()\n",
    "        self.fc4 = nn.Linear(32, 1)\n",
    "        self.sigmoid = nn.Sigmoid()\n",
    "\n",
    "    def forward(self, x):\n",
    "        x = self.fc1(x)\n",
    "        x = self.relu1(x)\n",
    "        x = self.dropout1(x)\n",
    "        x = self.fc2(x)\n",
    "        x = self.relu2(x)\n",
    "        x = self.dropout2(x)\n",
    "        x = self.fc3(x)\n",
    "        x = self.relu3(x)\n",
    "        x = self.fc4(x)\n",
    "        x = self.sigmoid(x)\n",
    "        return x"
>>>>>>> e206c8588698b338bc14f7b429e43aaea3c17309
   ]
  },
  {
   "cell_type": "code",
   "execution_count": 3,
   "metadata": {},
   "outputs": [],
   "source": [
<<<<<<< HEAD
    "# Assuming your dataset has 'Text' and 'Label' columns\n",
    "X = df['Text'].values\n",
    "y = df['Label'].values"
=======
    "# %%\n",
    "# Initialize the model\n",
    "input_size = X_train.shape[1]\n",
    "model = FakeNewsClassifier(input_size)\n",
    "\n",
    "# Define loss function and optimizer\n",
    "criterion = nn.BCELoss()\n",
    "optimizer = optim.Adam(model.parameters(), lr=0.001)"
>>>>>>> e206c8588698b338bc14f7b429e43aaea3c17309
   ]
  },
  {
   "cell_type": "code",
   "execution_count": 4,
   "metadata": {},
   "outputs": [],
   "source": [
<<<<<<< HEAD
    "# Split the dataset into training and testing sets\n",
    "X_train, X_test, y_train, y_test = train_test_split(X, y, test_size=0.2, random_state=42)"
=======
    "# %%\n",
    "# Training the model with timing information\n",
    "epochs = 10\n",
    "batch_size = 32\n",
    "\n",
    "start_time = time.time()\n",
    "\n",
    "for epoch in range(epochs):\n",
    "    for i in range(0, len(X_train), batch_size):\n",
    "        inputs = X_train[i:i+batch_size]\n",
    "        labels = y_train[i:i+batch_size]\n",
    "\n",
    "        optimizer.zero_grad()\n",
    "        outputs = model(inputs)\n",
    "        loss = criterion(outputs.squeeze(), labels)\n",
    "        loss.backward()\n",
    "        optimizer.step()\n",
    "\n",
    "end_time = time.time()"
>>>>>>> e206c8588698b338bc14f7b429e43aaea3c17309
   ]
  },
  {
   "cell_type": "code",
   "execution_count": 5,
   "metadata": {},
<<<<<<< HEAD
   "outputs": [],
   "source": [
    "# Vectorize the text data (you can use TF-IDF or other methods)\n",
    "vectorizer = TfidfVectorizer()\n",
    "X_train_tfidf = vectorizer.fit_transform(X_train)\n",
    "X_test_tfidf = vectorizer.transform(X_test)"
   ]
  },
  {
   "cell_type": "code",
   "execution_count": 6,
   "metadata": {},
=======
>>>>>>> e206c8588698b338bc14f7b429e43aaea3c17309
   "outputs": [
    {
     "name": "stdout",
     "output_type": "stream",
     "text": [
<<<<<<< HEAD
      "Accuracy: 80.20%\n",
      "Accuracy: 80.20%\n",
      "Accuracy: 80.20%\n",
      "Accuracy: 80.20%\n",
      "Accuracy: 80.20%\n",
      "Accuracy: 80.20%\n",
      "Accuracy: 80.20%\n",
      "Accuracy: 80.20%\n",
      "Accuracy: 80.20%\n",
      "Accuracy: 80.20%\n",
      "Accuracy: 80.20%\n",
      "Accuracy: 80.20%\n",
      "Accuracy: 80.20%\n",
      "Accuracy: 80.20%\n",
      "Accuracy: 80.20%\n",
      "Accuracy: 80.20%\n",
      "Accuracy: 80.20%\n",
      "Accuracy: 80.20%\n",
      "Accuracy: 80.20%\n",
      "Accuracy: 80.20%\n",
      "Accuracy: 80.20%\n",
      "Accuracy: 80.20%\n",
      "Accuracy: 80.20%\n",
      "Accuracy: 80.20%\n",
      "Accuracy: 80.20%\n",
      "Accuracy: 80.20%\n",
      "Accuracy: 80.20%\n",
      "Accuracy: 80.20%\n",
      "Accuracy: 80.20%\n",
      "Accuracy: 80.20%\n",
      "Accuracy: 80.20%\n",
      "Accuracy: 80.20%\n",
      "Accuracy: 80.20%\n",
      "Accuracy: 80.20%\n",
      "Accuracy: 80.20%\n",
      "Accuracy: 80.20%\n",
      "Accuracy: 80.20%\n",
      "Accuracy: 80.20%\n",
      "Accuracy: 80.20%\n",
      "Accuracy: 80.20%\n",
      "Accuracy: 80.20%\n",
      "Accuracy: 80.20%\n",
      "Accuracy: 80.20%\n",
      "Accuracy: 80.20%\n",
      "Accuracy: 80.20%\n",
      "Accuracy: 80.20%\n",
      "Accuracy: 80.20%\n",
      "Accuracy: 80.20%\n",
      "Accuracy: 80.20%\n",
      "Accuracy: 80.20%\n",
      "Accuracy: 80.20%\n",
      "Accuracy: 80.20%\n",
      "Accuracy: 80.20%\n",
      "Accuracy: 80.20%\n",
      "Accuracy: 80.20%\n",
      "Accuracy: 80.20%\n",
      "Accuracy: 80.20%\n",
      "Accuracy: 80.20%\n",
      "Accuracy: 80.20%\n",
      "Accuracy: 80.20%\n",
      "Accuracy: 80.20%\n",
      "Accuracy: 80.20%\n",
      "Accuracy: 80.20%\n",
      "Accuracy: 80.20%\n",
      "Accuracy: 80.20%\n",
      "Accuracy: 80.20%\n",
      "Accuracy: 80.20%\n",
      "Accuracy: 80.20%\n",
      "Accuracy: 80.20%\n",
      "Accuracy: 80.20%\n",
      "Accuracy: 80.20%\n",
      "Accuracy: 80.20%\n",
      "Accuracy: 80.20%\n",
      "Accuracy: 80.20%\n",
      "Accuracy: 80.20%\n",
      "Accuracy: 80.20%\n",
      "Accuracy: 80.20%\n",
      "Accuracy: 80.20%\n",
      "Accuracy: 80.20%\n",
      "Accuracy: 80.20%\n",
      "Accuracy: 80.20%\n",
      "Accuracy: 80.20%\n",
      "Accuracy: 80.20%\n",
      "Accuracy: 80.20%\n",
      "Accuracy: 80.20%\n",
      "Accuracy: 80.20%\n",
      "Accuracy: 80.20%\n",
      "Accuracy: 80.20%\n",
      "Accuracy: 80.20%\n",
      "Accuracy: 80.20%\n",
      "Accuracy: 80.20%\n",
      "Accuracy: 80.20%\n",
      "Accuracy: 80.20%\n",
      "Accuracy: 80.20%\n",
      "Accuracy: 80.20%\n",
      "Accuracy: 80.20%\n",
      "Accuracy: 80.20%\n",
      "Accuracy: 80.20%\n",
      "Accuracy: 80.20%\n",
      "Accuracy: 80.20%\n"
=======
      "Accuracy: 94.99%\n",
      "Training time: 84.10 seconds\n"
>>>>>>> e206c8588698b338bc14f7b429e43aaea3c17309
     ]
    }
   ],
   "source": [
<<<<<<< HEAD
    "for i in range(100):\n",
    "    nb_classifier = MultinomialNB()\n",
    "    nb_classifier.fit(X_train_tfidf, y_train)\n",
    "\n",
    "    # Make predictions on the test set\n",
    "    y_pred = nb_classifier.predict(X_test_tfidf)\n",
    "\n",
    "    # Evaluate the model\n",
    "    accuracy = accuracy_score(y_test, y_pred)\n",
    "    print(f\"Accuracy: {accuracy * 100:.2f}%\")"
=======
    "# %%\n",
    "# Evaluating the model\n",
    "with torch.no_grad():\n",
    "    model.eval()\n",
    "    predictions = (model(X_test).squeeze() > 0.5).float().numpy()\n",
    "\n",
    "# Calculate accuracy\n",
    "accuracy = accuracy_score(y_test.numpy(), predictions)\n",
    "print(f\"Accuracy: {accuracy * 100:.2f}%\")\n",
    "print(f\"Training time: {end_time - start_time:.2f} seconds\")"
>>>>>>> e206c8588698b338bc14f7b429e43aaea3c17309
   ]
  }
 ],
 "metadata": {
  "kernelspec": {
   "display_name": "Python 3",
   "language": "python",
   "name": "python3"
  },
  "language_info": {
   "codemirror_mode": {
    "name": "ipython",
    "version": 3
   },
   "file_extension": ".py",
   "mimetype": "text/x-python",
   "name": "python",
   "nbconvert_exporter": "python",
   "pygments_lexer": "ipython3",
   "version": "3.11.3"
  }
 },
 "nbformat": 4,
 "nbformat_minor": 2
}
